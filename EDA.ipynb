{
  "nbformat": 4,
  "nbformat_minor": 0,
  "metadata": {
    "colab": {
      "provenance": []
    },
    "kernelspec": {
      "name": "python3",
      "display_name": "Python 3"
    },
    "language_info": {
      "name": "python"
    }
  },
  "cells": [
    {
      "cell_type": "code",
      "execution_count": 66,
      "metadata": {
        "colab": {
          "base_uri": "https://localhost:8080/"
        },
        "id": "cVWls9_nghLW",
        "outputId": "6ca95274-9829-41c7-fa5a-a1733c78c0b6"
      },
      "outputs": [
        {
          "output_type": "stream",
          "name": "stdout",
          "text": [
            "Path to dataset files: /root/.cache/kagglehub/datasets/preethamgouda/financial-risk/versions/1\n"
          ]
        }
      ],
      "source": [
        "import kagglehub\n",
        "import os\n",
        "import pandas as pd\n",
        "from sklearn.preprocessing import OrdinalEncoder\n",
        "from sklearn.impute import KNNImputer\n",
        "from ydata_profiling import ProfileReport\n",
        "\n",
        "# Download latest version\n",
        "path = kagglehub.dataset_download(\"preethamgouda/financial-risk\")\n",
        "data = pd.read_csv(os.path.join(path, os.listdir(path)[0]))"
      ]
    },
    {
      "cell_type": "code",
      "source": [
        "# Automated EDA Report\n",
        "\n",
        "report = ProfileReport(data, explorative=True)\n",
        "report.to_file(\"report.html\")  # Save report as an HTML file"
      ],
      "metadata": {
        "id": "jiFr1Hr7zivx"
      },
      "execution_count": null,
      "outputs": []
    },
    {
      "cell_type": "code",
      "source": [
        "# Location Data Dropped for the sake of Testing.\n",
        "\n",
        "data = data.drop(['City', 'State', 'Country'], axis=1)"
      ],
      "metadata": {
        "id": "avxBke8pojwF"
      },
      "execution_count": 70,
      "outputs": []
    },
    {
      "cell_type": "code",
      "source": [
        "#\n",
        "\n",
        "ordinal_mapping = {\n",
        "    'Education Level': ['High School', \"Bachelor's\", \"Master's\", \"PhD\"],\n",
        "    'Risk Rating': [\"Low\", \"Medium\", \"High\"],\n",
        "    'Payment History': [\"Poor\", \"Fair\", \"Good\", \"Excellent\"]\n",
        "}\n",
        "encoder = OrdinalEncoder(categories=[ordinal_mapping[col] for col in ordinal_mapping])\n",
        "data[list(ordinal_mapping.keys())] = encoder.fit_transform(data[list(ordinal_mapping.keys())])"
      ],
      "metadata": {
        "id": "cwzOekh0v-lQ"
      },
      "execution_count": 50,
      "outputs": []
    },
    {
      "cell_type": "code",
      "source": [
        "data = pd.get_dummies(data)"
      ],
      "metadata": {
        "id": "2iV--BpBwhgo"
      },
      "execution_count": 77,
      "outputs": []
    },
    {
      "cell_type": "code",
      "source": [
        "imputer = KNNImputer(n_neighbors=5)\n",
        "data = pd.DataFrame(imputer.fit_transform(data), columns=data.columns)"
      ],
      "metadata": {
        "id": "HKJZ8KTEtkPh"
      },
      "execution_count": 79,
      "outputs": []
    },
    {
      "cell_type": "code",
      "source": [
        "data.to_parquet('cleaned_data.parquet')"
      ],
      "metadata": {
        "id": "GoMZ7P5GyVef"
      },
      "execution_count": 83,
      "outputs": []
    }
  ]
}